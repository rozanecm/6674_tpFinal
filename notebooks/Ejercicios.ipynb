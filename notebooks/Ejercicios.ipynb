{
 "cells": [
  {
   "cell_type": "code",
   "execution_count": 5,
   "metadata": {},
   "outputs": [],
   "source": [
    "from sympy import *"
   ]
  },
  {
   "cell_type": "code",
   "execution_count": 7,
   "metadata": {},
   "outputs": [],
   "source": [
    "# Constantes\n",
    "# velocidad de la plataforma (m/s)\n",
    "velocidad_plataforma = 108\n",
    "# frecuencia de muestreo en rango\n",
    "frecuencia_de_muestreo_en_rango = 50*10**6\n",
    "# pulse repetition frequency\n",
    "prf = 125\n",
    "# frecuencia de la portadora\n",
    "frecuencia_de_la_portadora = 1300*10**6\n",
    "# longitud de chirp emitido\n",
    "longitud_de_chirp_emitido = 10*10**(-6)\n",
    "# ancho de banda del chirp emitido\n",
    "bw_chirp_emitido = 38*10**6\n",
    "# longitud de onda\n",
    "longitud_de_onda = 0.23\n",
    "# rango central\n",
    "rango_central = 7545\n",
    "# apretura_angular_de_la_antena_en_acimut\n",
    "apretura_angular_de_la_antena_en_acimut = 0.107"
   ]
  }
 ],
 "metadata": {
  "kernelspec": {
   "display_name": "Python 3",
   "language": "python",
   "name": "python3"
  },
  "language_info": {
   "codemirror_mode": {
    "name": "ipython",
    "version": 3
   },
   "file_extension": ".py",
   "mimetype": "text/x-python",
   "name": "python",
   "nbconvert_exporter": "python",
   "pygments_lexer": "ipython3",
   "version": "3.5.2"
  }
 },
 "nbformat": 4,
 "nbformat_minor": 2
}
