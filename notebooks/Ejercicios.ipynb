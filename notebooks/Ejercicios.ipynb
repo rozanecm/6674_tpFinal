{
 "cells": [
  {
   "cell_type": "code",
   "execution_count": 1,
   "metadata": {},
   "outputs": [],
   "source": [
    "from sympy import *\n",
    "import numpy as np"
   ]
  },
  {
   "cell_type": "code",
   "execution_count": 17,
   "metadata": {},
   "outputs": [],
   "source": [
    "# Constantes\n",
    "# velocidad de la plataforma [m/s]\n",
    "v = 108\n",
    "\n",
    "# frecuencia de muestreo en rango [Hz]\n",
    "f_s = 50*10**6\n",
    "\n",
    "# pulse repetition frequency [Hz]\n",
    "prf = 125\n",
    "\n",
    "# frecuencia de la portadora [Hz]\n",
    "frecuencia_de_la_portadora = 1300*10**6\n",
    "\n",
    "# longitud de chirp emitido (T_rg) [s]\n",
    "T_rg = 10*10**(-6)\n",
    "\n",
    "# ancho de banda del chirp emitido [Hz]\n",
    "BW_rg = 38*10**6\n",
    "\n",
    "# longitud de onda [m]\n",
    "longitud_de_onda = 0.23\n",
    "\n",
    "# rango central [m]\n",
    "r_0 = 7545\n",
    "\n",
    "# apretura_angular_de_la_antena_en_acimut [rad]\n",
    "apretura_angular_de_la_antena_en_acimut = 0.107"
   ]
  },
  {
   "cell_type": "code",
   "execution_count": 3,
   "metadata": {},
   "outputs": [],
   "source": [
    "# symbolyc notation\n",
    "sim_v, sim_f_s, sim_prf = symbols('v f_s prf')\n",
    "sim_frecuencia_de_la_portadora, sim_T_rg, sim_BW_rg = symbols('frecuencia_de_la_portadora T_rg BW_rg')\n",
    "sim_longitud_de_onda, sim_r_0, sim_apertura_angular_de_la_antena_en_acimut = symbols('longitud_onda r_0 apertura_angular_de_la_antena_en_acimut')"
   ]
  },
  {
   "cell_type": "code",
   "execution_count": 4,
   "metadata": {},
   "outputs": [],
   "source": [
    "# var temporal\n",
    "sim_t = symbols('t')"
   ]
  },
  {
   "cell_type": "markdown",
   "metadata": {},
   "source": [
    "# Ejercicio 1"
   ]
  },
  {
   "cell_type": "markdown",
   "metadata": {},
   "source": [
    "Se pide encontrar tres ctes. Las defino:"
   ]
  },
  {
   "cell_type": "code",
   "execution_count": 9,
   "metadata": {},
   "outputs": [],
   "source": [
    "sim_k_1, sim_k_2, sim_T = symbols('k_1 k_2 T')"
   ]
  },
  {
   "cell_type": "markdown",
   "metadata": {},
   "source": [
    "Por enunciado sabemos que la longitud de chirp es T_rg. Por lo tanto, vale:"
   ]
  },
  {
   "cell_type": "code",
   "execution_count": 10,
   "metadata": {},
   "outputs": [],
   "source": [
    "sim_T = sim_T_rg"
   ]
  },
  {
   "cell_type": "markdown",
   "metadata": {},
   "source": [
    "Derivando la function theta(t), obtenemos la frecuencia instantanea:"
   ]
  },
  {
   "cell_type": "code",
   "execution_count": 11,
   "metadata": {},
   "outputs": [],
   "source": [
    "f_inst = 2 * sim_k_1 * sim_t + sim_k_2"
   ]
  },
  {
   "cell_type": "markdown",
   "metadata": {},
   "source": [
    "Hay que evaluar la frecuancia instantanea en t = 0 y t = T."
   ]
  },
  {
   "cell_type": "code",
   "execution_count": 12,
   "metadata": {},
   "outputs": [],
   "source": [
    "eq1 = Eq(2 * sim_k_1 * 0 + sim_k_2 + sim_BW_rg)"
   ]
  },
  {
   "cell_type": "code",
   "execution_count": 13,
   "metadata": {},
   "outputs": [],
   "source": [
    "eq2 = Eq(2 * sim_k_1 * sim_T + sim_k_2 - sim_BW_rg)"
   ]
  },
  {
   "cell_type": "code",
   "execution_count": 14,
   "metadata": {},
   "outputs": [],
   "source": [
    "sol = solve((eq1,eq2),(sim_k_1,sim_k_2))"
   ]
  },
  {
   "cell_type": "code",
   "execution_count": 15,
   "metadata": {},
   "outputs": [
    {
     "data": {
      "text/latex": [
       "$\\displaystyle \\frac{BW_{rg}}{T_{rg}}$"
      ],
      "text/plain": [
       "BW_rg/T_rg"
      ]
     },
     "execution_count": 15,
     "metadata": {},
     "output_type": "execute_result"
    }
   ],
   "source": [
    "sol[sim_k_1]"
   ]
  },
  {
   "cell_type": "code",
   "execution_count": 25,
   "metadata": {},
   "outputs": [],
   "source": [
    "k_1 = sol[sim_k_1].subs({sim_BW_rg:BW_rg, sim_T_rg:T_rg})"
   ]
  },
  {
   "cell_type": "code",
   "execution_count": 28,
   "metadata": {},
   "outputs": [],
   "source": [
    "k_2 = sol[sim_k_2].subs({sim_BW_rg:BW_rg})"
   ]
  },
  {
   "cell_type": "code",
   "execution_count": 31,
   "metadata": {},
   "outputs": [
    {
     "name": "stdout",
     "output_type": "stream",
     "text": [
      "valor k_1: 3800000000000.00\n",
      "valor k_2: -38000000\n"
     ]
    }
   ],
   "source": [
    "print(\"valor k_1: \" + str(k_1))\n",
    "print(\"valor k_2: \" + str(k_2))"
   ]
  },
  {
   "cell_type": "markdown",
   "metadata": {},
   "source": [
    "# Ejercicio 2"
   ]
  }
 ],
 "metadata": {
  "kernelspec": {
   "display_name": "Python 3",
   "language": "python",
   "name": "python3"
  },
  "language_info": {
   "codemirror_mode": {
    "name": "ipython",
    "version": 3
   },
   "file_extension": ".py",
   "mimetype": "text/x-python",
   "name": "python",
   "nbconvert_exporter": "python",
   "pygments_lexer": "ipython3",
   "version": "3.5.2"
  }
 },
 "nbformat": 4,
 "nbformat_minor": 2
}
